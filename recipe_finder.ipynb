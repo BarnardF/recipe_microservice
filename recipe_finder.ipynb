{
 "cells": [
  {
   "cell_type": "code",
   "execution_count": 14,
   "id": "4a84cd45",
   "metadata": {},
   "outputs": [],
   "source": [
    "recipes = {\n",
    "    \"Apple Pie\": {\n",
    "        \"ingredients\": [\"Flour\", \"Egg\", \"Milk\", \"Suger\", \"Apple\"],\n",
    "        \"time\": \"1 hour\",\n",
    "        \"difficulty\": \"medium\"\n",
    "        },\n",
    "\n",
    "    \"Shepards Pie\": {\n",
    "        \"ingredients\": [\"Flour\", \"Egg\", \"Milk\", \"Spices\", \"Grinded beef\", \"Potatoes\"],\n",
    "        \"time\": \"1.5 hour\",\n",
    "        \"difficulty\": \"medium\"\n",
    "        },\n",
    "\n",
    "    \"Pizza\": {\n",
    "        \"ingredients\": [\"Flour\", \"Egg\", \"Milk\", \"Tomato\", \"Cheese\", \"Ham\", \"Olive oil\"],\n",
    "        \"time\": \"40 min\",\n",
    "        \"difficulty\": \"easy\"\n",
    "        },\n",
    "\n",
    "    \"Burger\": {\n",
    "        \"ingredients\": [\"Buns\", \"Mayo\", \"Tomato sauce\", \"Pickles\", \"Tomato\", \"Pattie\", \"Spices\"],\n",
    "        \"time\": \"30 min\",\n",
    "        \"difficulty\": \"easy\"\n",
    "        },\n",
    "}"
   ]
  },
  {
   "cell_type": "code",
   "execution_count": null,
   "id": "3b2f25a4",
   "metadata": {},
   "outputs": [],
   "source": [
    "from collections import Counter\n",
    "\n",
    "def find_recipe(user_ingredients_list):\n",
    "    found_recipe = []\n",
    "\n",
    "    for title, details in recipes.items():\n",
    "        for ingredient in details['ingredients']:\n",
    "            for user_ingredient in user_ingredients_list:\n",
    "                if user_ingredient.lower() == ingredient.lower(): #everytime there is a match between the users ingredients and the recipes ingredients the recipe is added to the 'found_recipe' list\n",
    "                    found_recipe.append(title)\n",
    "\n",
    "#duplication does occur i know, but what if i count the amount of times a recipe has a duplicate\n",
    "#this could help in recomending the reicpe which is most alligned with the users input ingredients\n",
    "\n",
    "    #counter\n",
    "    counts = Counter(found_recipe)\n",
    "\n",
    "    recipe_stats = {}\n",
    "    for recipe, match_count in counts.items():\n",
    "        total_ingredients = len(recipes[recipe]['ingredients'])\n",
    "        recipe_stats[recipe] = {\n",
    "            \"matches\": match_count,\n",
    "            \"total_ingredients\": total_ingredients\n",
    "        }\n",
    "\n",
    "    return recipe_stats\n",
    "                    \n",
    "\n",
    "\n"
   ]
  },
  {
   "cell_type": "code",
   "execution_count": 18,
   "id": "9d636096",
   "metadata": {},
   "outputs": [
    {
     "name": "stdout",
     "output_type": "stream",
     "text": [
      "Recipes with matching ingrediences, ['milk', 'cheese', 'egg'], found:\n",
      "- Pizza: time: 40 min, difficulty: easy, (3 matches out of 7)\n",
      "- Apple Pie: time: 1 hour, difficulty: medium, (2 matches out of 5)\n",
      "- Shepards Pie: time: 1.5 hour, difficulty: medium, (2 matches out of 6)\n"
     ]
    }
   ],
   "source": [
    "def main():\n",
    "    user_input = input(\"Enter ingredients (seperated by comma's): \").lower().split(\",\")\n",
    "    user_ingredients_list = [u_input.strip() for u_input in user_input]\n",
    "\n",
    "    recipe_stats = find_recipe(user_ingredients_list)\n",
    "    \n",
    "    if recipe_stats:\n",
    "        print(f\"Recipes with matching ingrediences, {user_ingredients_list}, found:\")\n",
    "\n",
    "        sorted_recipes = sorted(\n",
    "            recipe_stats.items(),\n",
    "            key=lambda x: (-x[1]['matches'], x[1]['total_ingredients'])\n",
    "        )\n",
    "\n",
    "        for recipe, stats in sorted_recipes:\n",
    "            print(f\"- {recipe}: time: {recipes[recipe]['time']}, difficulty: {recipes[recipe]['difficulty']}, ({stats['matches']} matches out of {stats['total_ingredients']})\")\n",
    "        \n",
    "    else:\n",
    "        print(f\"No recipes found with ingredients - {user_ingredients_list}\")\n",
    "    \n",
    "    # print(amount_of_ingredients)\n",
    "\n",
    "\n",
    "if __name__==\"__main__\":\n",
    "    main()"
   ]
  },
  {
   "cell_type": "code",
   "execution_count": null,
   "id": "b0f699a3",
   "metadata": {},
   "outputs": [],
   "source": [
    "my_list = [1, 2, 3, 4, 5]\n",
    "total_items = len(my_list)\n",
    "print(total_items)"
   ]
  },
  {
   "cell_type": "code",
   "execution_count": null,
   "id": "08dab82c",
   "metadata": {},
   "outputs": [],
   "source": [
    "#users ingredients seperated by commas\n",
    "ing_selected = input(\"Enter ingredients: \")\n",
    "\n",
    "def check_ingredient(row):\n",
    "    ing_matched = row\n",
    "\n",
    "    #join all ingredientsw into a single lowercase string\n",
    "    ing_str = ' '.join(str(ing).lower() for ing in ing_matched)\n",
    "\n",
    "    #chech each item in all_ings\n",
    "    for item in ing_selected:\n",
    "        item = item.strip('s')\n",
    "        if item not in ing_str:\n",
    "            return False\n",
    "    \n",
    "    #if we've made through all items without rerurning false, return true\n",
    "    return True"
   ]
  },
  {
   "cell_type": "code",
   "execution_count": null,
   "id": "e785c2e5",
   "metadata": {},
   "outputs": [],
   "source": []
  }
 ],
 "metadata": {
  "kernelspec": {
   "display_name": "Python 3",
   "language": "python",
   "name": "python3"
  },
  "language_info": {
   "codemirror_mode": {
    "name": "ipython",
    "version": 3
   },
   "file_extension": ".py",
   "mimetype": "text/x-python",
   "name": "python",
   "nbconvert_exporter": "python",
   "pygments_lexer": "ipython3",
   "version": "3.12.2"
  }
 },
 "nbformat": 4,
 "nbformat_minor": 5
}

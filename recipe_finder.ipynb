{
 "cells": [
  {
   "cell_type": "code",
   "execution_count": null,
   "id": "4a84cd45",
   "metadata": {},
   "outputs": [],
   "source": [
    "recipes = {\n",
    "    \"Apple Pie\": {\n",
    "        \"ingredients\": [\"Flour\", \"Egg\", \"Milk\", \"Suger\", \"Apple\"],\n",
    "        \"time\": \"1 hour\",\n",
    "        \"difficulty\": \"medium\"\n",
    "        },\n",
    "\n",
    "    \"Shepards Pie\": {\n",
    "        \"ingredients\": [\"Flour\", \"Egg\", \"Milk\", \"Spices\", \"Grinded beef\", \"Potatoes\"],\n",
    "        \"time\": \"1.5 hour\",\n",
    "        \"difficulty\": \"medium\"\n",
    "        },\n",
    "\n",
    "    \"Pizza\": {\n",
    "        \"ingredients\": [\"Flour\", \"Egg\", \"Milk\", \"Tomato\", \"Cheese\", \"Ham\", \"Olive oil\"],\n",
    "        \"time\": \"40 min\",\n",
    "        \"difficulty\": \"easy\"\n",
    "        },\n",
    "\n",
    "    \"Burger\": {\n",
    "        \"ingredients\": [\"Buns\", \"Mayo\", \"Tomato sauce\", \"Pickles\", \"Tomato\", \"Pattie\", \"Spices\"],\n",
    "        \"time\": \"30 min\",\n",
    "        \"difficulty\": \"easy\"\n",
    "        },\n",
    "}"
   ]
  },
  {
   "cell_type": "markdown",
   "id": "7ce64576",
   "metadata": {},
   "source": [
    "old version"
   ]
  },
  {
   "cell_type": "code",
   "execution_count": null,
   "id": "3b2f25a4",
   "metadata": {},
   "outputs": [],
   "source": [
    "from collections import Counter\n",
    "\n",
    "#def find_recipe(user_ingredients_list):\n",
    "    found_recipe = []\n",
    "\n",
    "    for title, details in recipes.items():\n",
    "        for ingredient in details['ingredients']:\n",
    "            for user_ingredient in user_ingredients_list:\n",
    "                if user_ingredient.lower() == ingredient.lower(): #everytime there is a match between the users ingredients and the recipes ingredients the recipe is added to the 'found_recipe' list\n",
    "                    found_recipe.append(title)\n",
    "\n",
    "#duplication does occur i know, but what if i count the amount of times a recipe has a duplicate\n",
    "#this could help in recomending the reicpe which is most alligned with the users input ingredients\n",
    "\n",
    "    #counter\n",
    "    counts = Counter(found_recipe)\n",
    "    print(counts)\n",
    "\n",
    "    recipe_stats = {}\n",
    "    for recipe, match_count in counts.items():\n",
    "        total_ingredients = len(recipes[recipe]['ingredients'])\n",
    "        recipe_stats[recipe] = {\n",
    "            \"matches\": match_count,\n",
    "            \"total_ingredients\": total_ingredients\n",
    "        }\n",
    "\n",
    "    return recipe_stats\n",
    "                    \n",
    "\n",
    "\n"
   ]
  },
  {
   "cell_type": "markdown",
   "id": "c33649af",
   "metadata": {},
   "source": [
    "new version"
   ]
  },
  {
   "cell_type": "code",
   "execution_count": null,
   "id": "3092cd94",
   "metadata": {},
   "outputs": [],
   "source": [
    "def find_recipe(user_ingredients_list):\n",
    "    recipe_stats = {}\n",
    "\n",
    "    for title, details in recipes.items():\n",
    "        matched_ing = []\n",
    "        for ingredient in details['ingredients']:\n",
    "            for user_ingredient in user_ingredients_list:\n",
    "                if user_ingredient.lower() == ingredient.lower():\n",
    "                    matched_ing.append(ingredient)\n",
    "        \n",
    "        if matched_ing:\n",
    "            recipe_stats[title] = {\n",
    "                \"matches\": len(matched_ing),\n",
    "                \"total_ingredients\": len(details[\"ingredients\"]),\n",
    "                \"matched_ingredients\": matched_ing\n",
    "            }\n",
    "\n",
    "\n",
    "    print(recipe_stats)\n",
    "    return recipe_stats\n",
    "                    \n",
    "\n",
    "\n"
   ]
  },
  {
   "cell_type": "markdown",
   "id": "ffd37a7f",
   "metadata": {},
   "source": [
    "sets version"
   ]
  },
  {
   "cell_type": "code",
   "execution_count": null,
   "id": "ed5fd48b",
   "metadata": {},
   "outputs": [],
   "source": [
    "def find_recipe(user_ingredients):\n",
    "    # Create user set ONCE\n",
    "    user_set = set(user_ingredients)  # How would you create this?\n",
    "    \n",
    "    recipe_stats = {}\n",
    "    \n",
    "    for title, details in recipes.items():\n",
    "        # Create recipe set for THIS recipe only\n",
    "        recipe_set = set(ing.lower() for ing in details['ingredients'])  # How would you create this for current recipe?\n",
    "        \n",
    "        # Find intersection\n",
    "        matches = user_set & recipe_set\n",
    "        \n",
    "        # Store results if matches found\n",
    "        if matches:\n",
    "            recipe_stats[title] = {\n",
    "                \"total_matches\": len(matches),\n",
    "                \"total_ingredients\": len(details[\"ingredients\"]),\n",
    "                \"matched_ingredients\": matches\n",
    "            }\n",
    "\n",
    "    print(recipe_stats)\n",
    "    return recipe_stats\n",
    "\n"
   ]
  },
  {
   "cell_type": "code",
   "execution_count": null,
   "id": "9d636096",
   "metadata": {},
   "outputs": [],
   "source": [
    "def main():\n",
    "    user_input = input(\"Enter ingredients (seperated by comma's): \").lower().split(\",\")\n",
    "    user_ingredients_list = [u_input.strip() for u_input in user_input]\n",
    "\n",
    "    recipe_stats = find_recipe(user_ingredients_list)\n",
    "    \n",
    "    if recipe_stats:\n",
    "        print(f\"Recipes with matching ingrediences, {user_ingredients_list}, found:\")\n",
    "\n",
    "        \n",
    "        sorted_recipes = sorted(\n",
    "            recipe_stats.items(),\n",
    "            key=lambda x: (-x[1]['total_matches'], x[1]['total_ingredients'])\n",
    "        )\n",
    "\n",
    "        for recipe, stats in sorted_recipes:\n",
    "            print(f\"- {recipe}:\\n  Time: {recipes[recipe]['time']}\\n  Difficulty: {recipes[recipe]['difficulty']}\\n  {stats['total_matches']}/{stats['total_ingredients']} matches-{stats['matched_ingredients']}\")\n",
    "        \n",
    "    else:\n",
    "        print(f\"No recipes found with ingredients - {user_ingredients_list}\")\n",
    "    \n",
    "    # print(amount_of_ingredients)\n",
    "\n",
    "\n",
    "if __name__==\"__main__\":\n",
    "    main()"
   ]
  },
  {
   "cell_type": "code",
   "execution_count": null,
   "id": "b0f699a3",
   "metadata": {},
   "outputs": [],
   "source": [
    "my_list = [1, 2, 3, 4, 5]\n",
    "total_items = len(my_list)\n",
    "print(total_items)"
   ]
  },
  {
   "cell_type": "code",
   "execution_count": null,
   "id": "08dab82c",
   "metadata": {},
   "outputs": [],
   "source": [
    "#users ingredients seperated by commas\n",
    "ing_selected = input(\"Enter ingredients: \")\n",
    "\n",
    "def check_ingredient(row):\n",
    "    ing_matched = row\n",
    "\n",
    "    #join all ingredientsw into a single lowercase string\n",
    "    ing_str = ' '.join(str(ing).lower() for ing in ing_matched)\n",
    "\n",
    "    #chech each item in all_ings\n",
    "    for item in ing_selected:\n",
    "        item = item.strip('s')\n",
    "        if item not in ing_str:\n",
    "            return False\n",
    "    \n",
    "    #if we've made through all items without rerurning false, return true\n",
    "    return True"
   ]
  },
  {
   "cell_type": "code",
   "execution_count": null,
   "id": "e785c2e5",
   "metadata": {},
   "outputs": [],
   "source": [
    "# Example 2: Counting occurrences of tuples in a list of tuples\n",
    "list_of_tuples = [('apple', 'red'), ('banana', 'yellow'), ('apple', 'red'), ('grape', 'purple'), ('banana', 'yellow')]\n",
    "tuple_counts = Counter(list_of_tuples)\n",
    "print(f\"Counts of tuples in the list: {tuple_counts}\")"
   ]
  },
  {
   "cell_type": "code",
   "execution_count": null,
   "id": "2ab51b47",
   "metadata": {},
   "outputs": [],
   "source": [
    "!python test_recipe_finder.py\n"
   ]
  },
  {
   "cell_type": "code",
   "execution_count": null,
   "id": "0214ee8b",
   "metadata": {},
   "outputs": [],
   "source": []
  }
 ],
 "metadata": {
  "kernelspec": {
   "display_name": "Python 3",
   "language": "python",
   "name": "python3"
  },
  "language_info": {
   "codemirror_mode": {
    "name": "ipython",
    "version": 3
   },
   "file_extension": ".py",
   "mimetype": "text/x-python",
   "name": "python",
   "nbconvert_exporter": "python",
   "pygments_lexer": "ipython3",
   "version": "3.12.2"
  }
 },
 "nbformat": 4,
 "nbformat_minor": 5
}

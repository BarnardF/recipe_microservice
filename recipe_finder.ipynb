{
 "cells": [
  {
   "cell_type": "code",
   "execution_count": null,
   "id": "4a84cd45",
   "metadata": {},
   "outputs": [],
   "source": [
    "recipes = {\n",
    "    \"Apple Pie\": {\n",
    "        \"ingredients\": [\"Flour\", \"Egg\", \"Milk\", \"Suger\", \"Apple\"],\n",
    "        \"time\": \"1 hour\",\n",
    "        \"difficulty\": \"medium\"\n",
    "        },\n",
    "\n",
    "    \"Shepards Pie\": {\n",
    "        \"ingredients\": [\"Flour\", \"Egg\", \"Milk\", \"Spices\", \"Grinded beef\", \"Potatoes\"],\n",
    "        \"time\": \"1.5 hour\",\n",
    "        \"difficulty\": \"medium\"\n",
    "        },\n",
    "\n",
    "    \"Pizza\": {\n",
    "        \"ingredients\": [\"Flour\", \"Egg\", \"Milk\", \"Tomato\", \"Cheese\", \"Ham\", \"Olive oil\"],\n",
    "        \"time\": \"40 min\",\n",
    "        \"difficulty\": \"easy\"\n",
    "        },\n",
    "\n",
    "    \"Burger\": {\n",
    "        \"ingredients\": [\"Buns\", \"Mayo\", \"Tomato sauce\", \"Pickles\", \"Tomato\", \"Pattie\", \"Spices\"],\n",
    "        \"time\": \"30 min\",\n",
    "        \"difficulty\": \"easy\"\n",
    "        },\n",
    "}"
   ]
  },
  {
   "cell_type": "code",
   "execution_count": null,
   "id": "3b2f25a4",
   "metadata": {},
   "outputs": [],
   "source": [
    "from collections import Counter\n",
    "\n",
    "def find_recipe(user_ingredients_list):\n",
    "    found_recipe = []\n",
    "\n",
    "    for title, details in recipes.items():\n",
    "        for ingredient in details['ingredients']:\n",
    "            for user_ingredient in user_ingredients_list:\n",
    "                if user_ingredient.lower() == ingredient.lower(): #everytime there is a match between the users ingredients and the recipes ingredients the recipe is added to the 'found_recipe' list\n",
    "                    found_recipe.append(title)\n",
    "\n",
    "#duplication does occur i know, but what if i count the amount of times a recipe has a duplicate\n",
    "#this could help in recomending the reicpe which is most alligned with the users input ingredients\n",
    "\n",
    "    #counter\n",
    "    counts = Counter(found_recipe)\n",
    "    # counts.sort(key=lambda recipe: recipe['count'])\n",
    "    print(counts)\n",
    "                    \n",
    "\n",
    "\n",
    "    if counts:\n",
    "        print(f\"Recipes with matching ingrediences, {user_ingredients_list}, found:\")\n",
    "        for recipe, count in counts.most_common():\n",
    "            print(f\"- {recipe}: time: {recipes[recipe]['time']}, difficulty: {recipes[recipe]['difficulty']}, ({count} matches)\")\n",
    "        \n",
    "    else:\n",
    "        print(f\"No recipes found with ingredients - {user_ingredients_list}\")"
   ]
  },
  {
   "cell_type": "code",
   "execution_count": 48,
   "id": "9d636096",
   "metadata": {},
   "outputs": [
    {
     "ename": "AttributeError",
     "evalue": "'Counter' object has no attribute 'sort'",
     "output_type": "error",
     "traceback": [
      "\u001b[1;31m---------------------------------------------------------------------------\u001b[0m",
      "\u001b[1;31mAttributeError\u001b[0m                            Traceback (most recent call last)",
      "Cell \u001b[1;32mIn[48], line 8\u001b[0m\n\u001b[0;32m      5\u001b[0m     find_recipe(user_ingredients_list)\n\u001b[0;32m      7\u001b[0m \u001b[38;5;28;01mif\u001b[39;00m \u001b[38;5;18m__name__\u001b[39m\u001b[38;5;241m==\u001b[39m\u001b[38;5;124m\"\u001b[39m\u001b[38;5;124m__main__\u001b[39m\u001b[38;5;124m\"\u001b[39m:\n\u001b[1;32m----> 8\u001b[0m     \u001b[43mmain\u001b[49m\u001b[43m(\u001b[49m\u001b[43m)\u001b[49m\n",
      "Cell \u001b[1;32mIn[48], line 5\u001b[0m, in \u001b[0;36mmain\u001b[1;34m()\u001b[0m\n\u001b[0;32m      2\u001b[0m user_input \u001b[38;5;241m=\u001b[39m \u001b[38;5;28minput\u001b[39m(\u001b[38;5;124m\"\u001b[39m\u001b[38;5;124mEnter ingredients (seperated by comma\u001b[39m\u001b[38;5;124m'\u001b[39m\u001b[38;5;124ms): \u001b[39m\u001b[38;5;124m\"\u001b[39m)\u001b[38;5;241m.\u001b[39mlower()\u001b[38;5;241m.\u001b[39msplit(\u001b[38;5;124m\"\u001b[39m\u001b[38;5;124m,\u001b[39m\u001b[38;5;124m\"\u001b[39m)\n\u001b[0;32m      3\u001b[0m user_ingredients_list \u001b[38;5;241m=\u001b[39m [u_input\u001b[38;5;241m.\u001b[39mstrip() \u001b[38;5;28;01mfor\u001b[39;00m u_input \u001b[38;5;129;01min\u001b[39;00m user_input]\n\u001b[1;32m----> 5\u001b[0m \u001b[43mfind_recipe\u001b[49m\u001b[43m(\u001b[49m\u001b[43muser_ingredients_list\u001b[49m\u001b[43m)\u001b[49m\n",
      "Cell \u001b[1;32mIn[47], line 17\u001b[0m, in \u001b[0;36mfind_recipe\u001b[1;34m(user_ingredients_list)\u001b[0m\n\u001b[0;32m     12\u001b[0m \u001b[38;5;66;03m#duplication does occur i know, but what if i count the amount of times a recipe has a duplicate\u001b[39;00m\n\u001b[0;32m     13\u001b[0m \u001b[38;5;66;03m#this could help in recomending the reicpe which is most alligned with the users input ingredients\u001b[39;00m\n\u001b[0;32m     14\u001b[0m \n\u001b[0;32m     15\u001b[0m     \u001b[38;5;66;03m#counter\u001b[39;00m\n\u001b[0;32m     16\u001b[0m     counts \u001b[38;5;241m=\u001b[39m Counter(found_recipe)\n\u001b[1;32m---> 17\u001b[0m     \u001b[43mcounts\u001b[49m\u001b[38;5;241;43m.\u001b[39;49m\u001b[43msort\u001b[49m(key\u001b[38;5;241m=\u001b[39m\u001b[38;5;28;01mlambda\u001b[39;00m recipe: recipe[\u001b[38;5;124m'\u001b[39m\u001b[38;5;124mcount\u001b[39m\u001b[38;5;124m'\u001b[39m])\n\u001b[0;32m     18\u001b[0m     \u001b[38;5;28mprint\u001b[39m(counts)\n\u001b[0;32m     22\u001b[0m     \u001b[38;5;28;01mif\u001b[39;00m counts:\n",
      "\u001b[1;31mAttributeError\u001b[0m: 'Counter' object has no attribute 'sort'"
     ]
    }
   ],
   "source": [
    "def main():\n",
    "    user_input = input(\"Enter ingredients (seperated by comma's): \").lower().split(\",\")\n",
    "    user_ingredients_list = [u_input.strip() for u_input in user_input]\n",
    "\n",
    "    find_recipe(user_ingredients_list)\n",
    "\n",
    "if __name__==\"__main__\":\n",
    "    main()"
   ]
  },
  {
   "cell_type": "code",
   "execution_count": null,
   "id": "b0f699a3",
   "metadata": {},
   "outputs": [],
   "source": []
  }
 ],
 "metadata": {
  "kernelspec": {
   "display_name": "Python 3",
   "language": "python",
   "name": "python3"
  },
  "language_info": {
   "codemirror_mode": {
    "name": "ipython",
    "version": 3
   },
   "file_extension": ".py",
   "mimetype": "text/x-python",
   "name": "python",
   "nbconvert_exporter": "python",
   "pygments_lexer": "ipython3",
   "version": "3.12.2"
  }
 },
 "nbformat": 4,
 "nbformat_minor": 5
}

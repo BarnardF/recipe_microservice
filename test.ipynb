{
 "cells": [
  {
   "cell_type": "code",
   "execution_count": 13,
   "id": "e69f02d3",
   "metadata": {},
   "outputs": [],
   "source": [
    "recipes = {\n",
    "    \"Apple Pie\": {\n",
    "        \"ingredients\": [\"Flour\", \"Egg\", \"Milk\", \"Suger\", \"Apple\"],\n",
    "        \"time\": \"1 hour\",\n",
    "        \"difficulty\": \"medium\"\n",
    "        },\n",
    "\n",
    "    \"Shepards Pie\": {\n",
    "        \"ingredients\": [\"Flour\", \"Egg\", \"Milk\", \"Spices\", \"Grinded beef\", \"Potatoes\"],\n",
    "        \"time\": \"1.5 hour\",\n",
    "        \"difficulty\": \"medium\"\n",
    "        },\n",
    "\n",
    "    \"Pizza\": {\n",
    "        \"ingredients\": [\"Flour\", \"Egg\", \"Milk\", \"Tomato\", \"Cheese\", \"Ham\", \"Olive oil\"],\n",
    "        \"time\": \"40 min\",\n",
    "        \"difficulty\": \"easy\"\n",
    "        },\n",
    "\n",
    "    \"Burger\": {\n",
    "        \"ingredients\": [\"Buns\", \"Mayo\", \"Tomato sauce\", \"Pickles\", \"Tomato\", \"Pattie\", \"Spices\"],\n",
    "        \"time\": \"30 min\",\n",
    "        \"difficulty\": \"easy\"\n",
    "        },\n",
    "}"
   ]
  },
  {
   "cell_type": "code",
   "execution_count": null,
   "id": "0e0631f3",
   "metadata": {},
   "outputs": [
    {
     "name": "stdout",
     "output_type": "stream",
     "text": [
      "Recipes with matching ingrediences, milk, found:\n",
      "- Apple Pie: time: 1 hour, difficulty: medium \n",
      "- Shepards Pie: time: 1.5 hour, difficulty: medium \n",
      "- Pizza: time: 40 min, difficulty: easy \n"
     ]
    }
   ],
   "source": [
    "user_input = input(\"Enter ingredients (seperated by comma's): \").lower().split(\",\")\n",
    "user_ingredients = [u_input.strip() for u_input in user_input]\n",
    "\n",
    "found_recipe = []\n",
    "for title, details in recipes.items():\n",
    "    for ingredient in details[\"ingredients\"]:\n",
    "        if ingredient.lower() == user_input:\n",
    "            found_recipe.append(title)\n",
    "\n",
    "if found_recipe:\n",
    "    print(f\"Recipes with matching ingrediences, {user_input}, found:\")\n",
    "    for recipe in found_recipe:\n",
    "        print(f\"- {recipe}: time: {recipes[recipe]['time']}, difficulty: {recipes[recipe]['difficulty']} \")\n",
    "    \n",
    "else:\n",
    "    print(f\"No recipes found with ingredients - {user_input}\")"
   ]
  },
  {
   "cell_type": "code",
   "execution_count": 16,
   "id": "9f624aa0",
   "metadata": {},
   "outputs": [
    {
     "name": "stdout",
     "output_type": "stream",
     "text": [
      "List items: ['apple', 'banana', 'cock']\n",
      "Numbers list: [1, 5, 2]\n"
     ]
    }
   ],
   "source": [
    "# Using a loop\n",
    "my_list = []\n",
    "for _ in range(3): # For example, taking 3 inputs\n",
    "    item = input(\"Enter an item: \")\n",
    "    my_list.append(item)\n",
    "print(f\"List items: {my_list}\")\n",
    "\n",
    "# Using list comprehension for numerical input\n",
    "numbers_list = [int(x) for x in input(\"Enter numbers separated by spaces: \").split()]\n",
    "print(f\"Numbers list: {numbers_list}\")"
   ]
  },
  {
   "cell_type": "code",
   "execution_count": null,
   "id": "12d3a9a5",
   "metadata": {},
   "outputs": [],
   "source": []
  }
 ],
 "metadata": {
  "kernelspec": {
   "display_name": "Python 3",
   "language": "python",
   "name": "python3"
  },
  "language_info": {
   "codemirror_mode": {
    "name": "ipython",
    "version": 3
   },
   "file_extension": ".py",
   "mimetype": "text/x-python",
   "name": "python",
   "nbconvert_exporter": "python",
   "pygments_lexer": "ipython3",
   "version": "3.12.1"
  }
 },
 "nbformat": 4,
 "nbformat_minor": 5
}
